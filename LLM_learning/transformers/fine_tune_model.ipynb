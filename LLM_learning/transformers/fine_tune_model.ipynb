{
 "cells": [
  {
   "cell_type": "markdown",
   "metadata": {},
   "source": [
    "# CH2 Fine-tune a pre-trained model\n",
    "# 微调预训练模型\n",
    "\n",
    "使用预训练模型时, 需要在特定的任务的数据集上对其进行训练, 这种方法称为微调(Fine-tune)\n",
    "\n",
    "目前主流的微调框架有:\n",
    "- Transformers Trainer\n",
    "- Keras and TensorFlow\n",
    "- Pytorch(native)"
   ]
  },
  {
   "cell_type": "markdown",
   "metadata": {},
   "source": [
    "## Step 1: Prepare a dataset\n",
    "## 准备一个数据集\n"
   ]
  }
 ],
 "metadata": {
  "language_info": {
   "name": "python"
  }
 },
 "nbformat": 4,
 "nbformat_minor": 2
}
